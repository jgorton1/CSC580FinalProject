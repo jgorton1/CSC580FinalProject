{
 "cells": [
  {
   "cell_type": "code",
   "execution_count": 1,
   "id": "a5c2348e",
   "metadata": {},
   "outputs": [
    {
     "name": "stdout",
     "output_type": "stream",
     "text": [
      "(798, 57)\n"
     ]
    }
   ],
   "source": [
    "import pandas as pd\n",
    "import numpy as np\n",
    "from pgmpy.models import BayesianNetwork\n",
    "from pgmpy.estimators import MaximumLikelihoodEstimator\n",
    "from sklearn.preprocessing import KBinsDiscretizer\n",
    "from sklearn.preprocessing import MinMaxScaler\n",
    "df = pd.read_csv(\"Data\\\\train_data_3sec.csv\", header=0)\n",
    "\n",
    "# Extract features and labels\n",
    "features = df.iloc[:, 2:-1].values  # Assuming your features start from the second column\n",
    "labels = df.iloc[:, -1].values\n",
    "blues = features[labels == \"classical\"]\n",
    "print(blues.shape)\n",
    "# Convert labels to numeric format if needed\n",
    "# For example, if labels are strings like 'blues', you can encode them into numbers\n",
    "unique_labels = np.unique(labels)\n",
    "label_mapping = {label: i for i, label in enumerate(unique_labels)}\n",
    "numeric_labels = np.array([label_mapping[label] for label in labels])\n",
    "\n",
    "# Convert features to a numpy array\n",
    "features_array = np.array(blues, dtype=np.float32)\n",
    "numeric_labels.shape\n",
    "scaler = MinMaxScaler()\n",
    "normalized_features = scaler.fit_transform(features_array)\n",
    "X =normalized_features"
   ]
  },
  {
   "cell_type": "code",
   "execution_count": 10,
   "id": "d3424504",
   "metadata": {},
   "outputs": [],
   "source": [
    "# discretize the data\n",
    "disc = KBinsDiscretizer(n_bins=5, encode='ordinal')\n",
    "disc.fit(X)\n",
    "disc_features = disc.transform(X)"
   ]
  },
  {
   "cell_type": "code",
   "execution_count": 11,
   "id": "a1d97d9b",
   "metadata": {},
   "outputs": [
    {
     "data": {
      "text/plain": [
       "array([[2., 1., 2., ..., 4., 4., 4.],\n",
       "       [1., 3., 2., ..., 4., 2., 4.],\n",
       "       [1., 2., 3., ..., 3., 3., 4.],\n",
       "       ...,\n",
       "       [4., 3., 0., ..., 3., 4., 2.],\n",
       "       [4., 1., 0., ..., 1., 4., 0.],\n",
       "       [4., 0., 1., ..., 4., 4., 1.]], dtype=float32)"
      ]
     },
     "execution_count": 11,
     "metadata": {},
     "output_type": "execute_result"
    }
   ],
   "source": [
    "disc_features"
   ]
  },
  {
   "cell_type": "code",
   "execution_count": 2,
   "id": "61b2125e",
   "metadata": {},
   "outputs": [
    {
     "data": {
      "text/plain": [
       "[<TabularCPD representing P(A:2) at 0x28998717a90>,\n",
       " <TabularCPD representing P(C:2 | A:2, B:2) at 0x28998717a00>,\n",
       " <TabularCPD representing P(B:2) at 0x289987179d0>]"
      ]
     },
     "execution_count": 2,
     "metadata": {},
     "output_type": "execute_result"
    }
   ],
   "source": [
    "\n",
    "data = pd.DataFrame(data={'A': [0, 0, 1], 'B': [0, 1, 0], 'C': [1, 1, 0]})\n",
    "model = BayesianNetwork([('A', 'C'), ('B', 'C')])\n",
    "model.fit(data)\n",
    "model.get_cpds()"
   ]
  },
  {
   "cell_type": "code",
   "execution_count": 3,
   "id": "f105c72a",
   "metadata": {},
   "outputs": [
    {
     "name": "stdout",
     "output_type": "stream",
     "text": [
      "+------+----------+\n",
      "| A(0) | 0.666667 |\n",
      "+------+----------+\n",
      "| A(1) | 0.333333 |\n",
      "+------+----------+\n",
      "+------+------+------+------+------+\n",
      "| A    | A(0) | A(0) | A(1) | A(1) |\n",
      "+------+------+------+------+------+\n",
      "| B    | B(0) | B(1) | B(0) | B(1) |\n",
      "+------+------+------+------+------+\n",
      "| C(0) | 0.0  | 0.0  | 1.0  | 0.5  |\n",
      "+------+------+------+------+------+\n",
      "| C(1) | 1.0  | 1.0  | 0.0  | 0.5  |\n",
      "+------+------+------+------+------+\n",
      "+------+----------+\n",
      "| B(0) | 0.666667 |\n",
      "+------+----------+\n",
      "| B(1) | 0.333333 |\n",
      "+------+----------+\n"
     ]
    }
   ],
   "source": [
    "for cpd in model.get_cpds():\n",
    "    print(cpd)"
   ]
  },
  {
   "cell_type": "code",
   "execution_count": null,
   "id": "d01d7181",
   "metadata": {},
   "outputs": [],
   "source": []
  }
 ],
 "metadata": {
  "kernelspec": {
   "display_name": "Python 3 (ipykernel)",
   "language": "python",
   "name": "python3"
  },
  "language_info": {
   "codemirror_mode": {
    "name": "ipython",
    "version": 3
   },
   "file_extension": ".py",
   "mimetype": "text/x-python",
   "name": "python",
   "nbconvert_exporter": "python",
   "pygments_lexer": "ipython3",
   "version": "3.9.12"
  }
 },
 "nbformat": 4,
 "nbformat_minor": 5
}
